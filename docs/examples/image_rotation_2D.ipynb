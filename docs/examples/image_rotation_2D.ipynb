version https://git-lfs.github.com/spec/v1
oid sha256:8e25c370a294c55fb99f47bf17c23c7103d6fcb3270f671e4331ce313cae13bf
size 7123
