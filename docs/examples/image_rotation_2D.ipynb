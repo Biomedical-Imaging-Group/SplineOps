{
 "cells": [
  {
   "cell_type": "markdown",
   "metadata": {},
   "source": [
    "# Example of doing an image rotation in 2D\n",
    "\n",
    "This example demonstrates how to create a basic rotation using the TensorSpline API."
   ]
  },
  {
   "cell_type": "code",
   "metadata": {},
   "source": [
    "#!/usr/bin/env python3\n",
    "import numpy as np\n",
    "import cupy as cp\n",
    "import matplotlib.pyplot as plt\n",
    "import time\n",
    "from scipy import ndimage, datasets\n",
    "\n",
    "from bssp.interpolate.tensorspline import TensorSpline"
   ],
   "execution_count": null,
   "outputs": []
  },
  {
   "cell_type": "markdown",
   "metadata": {},
   "source": [
    "## Calculate Inscribed Rectangle Bounds from Image\n",
    "\n",
    "Calculate the bounds for the largest rectangle that can be inscribed within a circle, which itself is inscribed within the original image, based on the image array directly."
   ]
  },
  {
   "cell_type": "code",
   "metadata": {},
   "source": [
    "def calculate_inscribed_rectangle_bounds_from_image(image):\n",
    "    \"\"\"\n",
    "    Calculate the bounds for the largest rectangle that can be inscribed\n",
    "    within a circle, which itself is inscribed within the original image,\n",
    "    based on the image array directly.\n",
    "\n",
    "    The rectangle and the circle are centered within the original image.\n",
    "\n",
    "    Parameters:\n",
    "    - image: The input image as a 2D or 3D numpy array.\n",
    "\n",
    "    Returns:\n",
    "    - A tuple (x_min, y_min, x_max, y_max) representing the bounds for cropping.\n",
    "    \"\"\"\n",
    "    # Extract image dimensions\n",
    "    height, width = image.shape[:2]\n",
    "\n",
    "    # Calculate the radius of the inscribed circle\n",
    "    radius = min(width, height) / 2\n",
    "\n",
    "    # The side length of the square (largest inscribed rectangle in a circle)\n",
    "    side_length = radius * np.sqrt(2)\n",
    "\n",
    "    # Calculate the center of the image\n",
    "    cx, cy = width / 2, height / 2\n",
    "\n",
    "    # Calculate the bounds of the largest inscribed rectangle\n",
    "    x_min = int(cx - side_length / 2)\n",
    "    y_min = int(cy - side_length / 2)\n",
    "    x_max = int(cx + side_length / 2)\n",
    "    y_max = int(cy + side_length / 2)\n",
    "\n",
    "    return np.array([x_min, y_min, x_max, y_max])"
   ],
   "execution_count": null,
   "outputs": []
  },
  {
   "cell_type": "markdown",
   "metadata": {},
   "source": [
    "## Crop Image to Bounds\n",
    "\n",
    "Crop an image to the specified bounds."
   ]
  },
  {
   "cell_type": "code",
   "metadata": {},
   "source": [
    "def crop_image_to_bounds(image, bounds):\n",
    "    \"\"\"\n",
    "    Crop an image to the specified bounds.\n",
    "\n",
    "    Parameters:\n",
    "    - image: The input image as a 2D numpy array.\n",
    "    - bounds: An array of (x_min, y_min, x_max, y_max) defining the crop bounds,\n",
    "              where these values are absolute pixel coordinates in the image.\n",
    "\n",
    "    Returns:\n",
    "    - Cropped image as a 2D numpy array.\n",
    "    \"\"\"\n",
    "    x_min, y_min, x_max, y_max = bounds\n",
    "    return image[y_min:y_max, x_min:x_max]"
   ],
   "execution_count": null,
   "outputs": []
  },
  {
   "cell_type": "markdown",
   "metadata": {},
   "source": [
    "## Calculate Signal-to-Noise Ratio (SNR)\n",
    "\n",
    "Compute the Signal-to-Noise Ratio (SNR) between the original and modified images."
   ]
  },
  {
   "cell_type": "code",
   "metadata": {},
   "source": [
    "def calculate_snr(original, modified):\n",
    "    \"\"\"\n",
    "    Compute the Signal-to-Noise Ratio (SNR) between the original and modified images.\n",
    "\n",
    "    Parameters:\n",
    "    - original: The original image as a 2D numpy array.\n",
    "    - modified: The modified (rotated) image as a 2D numpy array.\n",
    "\n",
    "    Returns:\n",
    "    - SNR value as a float.\n",
    "    \"\"\"\n",
    "    original_normalized = original / 255.0 if original.max() > 1 else original\n",
    "    processed_normalized = modified / 255.0 if modified.max() > 1 else modified\n",
    "    noise = original_normalized - processed_normalized\n",
    "    mean_signal = np.mean(original_normalized)\n",
    "    variance_noise = np.var(noise)\n",
    "    epsilon = 1e-3\n",
    "    snr = 10 * np.log10((mean_signal**2) / (variance_noise + epsilon))\n",
    "    return snr"
   ],
   "execution_count": null,
   "outputs": []
  },
  {
   "cell_type": "markdown",
   "metadata": {},
   "source": [
    "## Calculate Mean Squared Error (MSE)\n",
    "\n",
    "Compute the Mean Squared Error (MSE) between the original and modified images."
   ]
  },
  {
   "cell_type": "code",
   "metadata": {},
   "source": [
    "def calculate_mse(original, modified):\n",
    "    \"\"\"\n",
    "    Compute the Mean Squared Error (MSE) between the original and modified images.\n",
    "\n",
    "    Parameters:\n",
    "    - original: The original image as a 2D numpy array.\n",
    "    - modified: The modified (rotated) image as a 2D numpy array.\n",
    "\n",
    "    Returns:\n",
    "    - MSE value as a float.\n",
    "    \"\"\"\n",
    "    mse = np.mean((original - modified) ** 2)\n",
    "    return mse"
   ],
   "execution_count": null,
   "outputs": []
  },
  {
   "cell_type": "markdown",
   "metadata": {},
   "source": [
    "## Rotate Image and Crop using BSSP\n",
    "\n",
    "Rotate an image by a specified angle using the BSSP library's TensorSpline method and crop the result."
   ]
  },
  {
   "cell_type": "code",
   "metadata": {},
   "source": [
    "def rotate_image_and_crop_bssp(image, angle, order=3, mode=\"zero\", iterations=1):\n",
    "    \"\"\"\n",
    "    Rotate an image by a specified angle using the BSSP library's TensorSpline method and crop the result.\n",
    "\n",
    "    Parameters:\n",
    "    - image: The input image as a 2D numpy array.\n",
    "    - angle: The rotation angle in degrees.\n",
    "    - order: The order of the spline (0-7).\n",
    "    - mode: The mode for handling boundaries (default is \"zero\").\n",
    "    - iterations: The number of iterations to apply the rotation.\n",
    "\n",
    "    Returns:\n",
    "    - Rotated image as a 2D numpy array.\n",
    "    \"\"\"\n",
    "    dtype = image.dtype\n",
    "    ny, nx = image.shape\n",
    "    xx = np.linspace(0, nx - 1, nx, dtype=dtype)\n",
    "    yy = np.linspace(0, ny - 1, ny, dtype=dtype)\n",
    "    data = np.ascontiguousarray(image, dtype=dtype)\n",
    "\n",
    "    rotated_image_cp = cp.asarray(data)\n",
    "    xx_cp = cp.asarray(xx)\n",
    "    yy_cp = cp.asarray(yy)\n",
    "\n",
    "    order = max(0, min(order, 7))\n",
    "    basis = f\"bspline{order}\"\n",
    "\n",
    "    for _ in range(iterations):\n",
    "        tensor_spline = TensorSpline(\n",
    "            data=rotated_image_cp, coordinates=(yy_cp, xx_cp), bases=basis, modes=mode\n",
    "        )\n",
    "        angle_rad = np.radians(-angle)\n",
    "        cos_angle, sin_angle = np.cos(angle_rad), np.sin(angle_rad)\n",
    "        original_center_x, original_center_y = (nx - 1) / 2.0, (ny - 1) / 2.0\n",
    "        oy, ox = cp.ogrid[0:ny, 0:nx]\n",
    "        ox = ox - original_center_x\n",
    "        oy = oy - original_center_y\n",
    "\n",
    "        nx_coords = cos_angle * ox + sin_angle * oy + original_center_x\n",
    "        ny_coords = -sin_angle * ox + cos_angle * oy + original_center_y\n",
    "\n",
    "        eval_coords_cp = cp.asarray(ny_coords.flatten()), cp.asarray(\n",
    "            nx_coords.flatten()\n",
    "        )\n",
    "        interpolated_values_cp = tensor_spline(coordinates=eval_coords_cp, grid=False)\n",
    "        rotated_image_cp = interpolated_values_cp.reshape(ny, nx)\n",
    "\n",
    "    rotated_image = rotated_image_cp.get()\n",
    "    cp.get_default_memory_pool().free_all_blocks()\n",
    "    return rotated_image"
   ],
   "execution_count": null,
   "outputs": []
  },
  {
   "cell_type": "markdown",
   "metadata": {},
   "source": [
    "## Rotate Image and Crop using SciPy\n",
    "\n",
    "Rotate an image by a specified angle using SciPy's ndimage.rotate function and crop the result."
   ]
  },
  {
   "cell_type": "code",
   "metadata": {},
   "source": [
    "def rotate_image_and_crop_scipy(image, angle, order=3, iterations=5):\n",
    "    \"\"\"\n",
    "    Rotate an image by a specified angle using SciPy's ndimage.rotate function and crop the result.\n",
    "\n",
    "    Parameters:\n",
    "    - image: The input image as a 2D numpy array.\n",
    "    - angle: The rotation angle in degrees.\n",
    "    - order: The order of the spline (0-5).\n",
    "    - iterations: The number of iterations to apply the rotation.\n",
    "\n",
    "    Returns:\n",
    "    - Rotated image as a 2D numpy array.\n",
    "    \"\"\"\n",
    "    rotated_image = image.copy()\n",
    "    for _ in range(iterations):\n",
    "        rotated_image = ndimage.rotate(\n",
    "            rotated_image, angle, reshape=False, order=order, mode=\"constant\", cval=0\n",
    "        )\n",
    "    return rotated_image"
   ],
   "execution_count": null,
   "outputs": []
  },
  {
   "cell_type": "markdown",
   "metadata": {},
   "source": [
    "## Benchmark and Display Rotation\n",
    "\n",
    "Perform a benchmark of the rotation operation for both BSSP and SciPy libraries and display images."
   ]
  },
  {
   "cell_type": "code",
   "metadata": {},
   "source": [
    "def benchmark_and_display_rotation(image, angle, order, iterations):\n",
    "    \"\"\"\n",
    "    Perform a benchmark of the rotation operation for both BSSP and SciPy libraries and display images.\n",
    "\n",
    "    Parameters:\n",
    "    - image: The input image as a 2D numpy array.\n",
    "    - angle: The rotation angle in degrees.\n",
    "    - order: The order of the spline (0-7).\n",
    "    - iterations: The number of iterations to apply the rotation.\n",
    "    \"\"\"\n",
    "    start_time_custom = time.time()\n",
    "    custom_rotated_and_cropped_bssp = rotate_image_and_crop_bssp(\n",
    "        image, angle, order=order, mode=\"zero\", iterations=iterations\n",
    "    )\n",
    "    time_custom = time.time() - start_time_custom\n",
    "\n",
    "    start_time_scipy = time.time()\n",
    "    scipy_rotated_and_cropped = rotate_image_and_crop_scipy(\n",
    "        image, angle, order=order, iterations=iterations\n",
    "    )\n",
    "    time_scipy = time.time() - start_time_scipy\n",
    "\n",
    "    bounds = calculate_inscribed_rectangle_bounds_from_image(image)\n",
    "    image_cropped = crop_image_to_bounds(image, bounds)\n",
    "    custom_rotated_and_cropped_bssp = crop_image_to_bounds(\n",
    "        custom_rotated_and_cropped_bssp, bounds\n",
    "    )\n",
    "    scipy_rotated_and_cropped = crop_image_to_bounds(scipy_rotated_and_cropped, bounds)\n",
    "\n",
    "    snr_bssp = calculate_snr(image_cropped, custom_rotated_and_cropped_bssp)\n",
    "    snr_scipy = calculate_snr(image_cropped, scipy_rotated_and_cropped)\n",
    "    mse_bssp = calculate_mse(image_cropped, custom_rotated_and_cropped_bssp)\n",
    "    mse_scipy = calculate_mse(image_cropped, scipy_rotated_and_cropped)\n",
    "\n",
    "    fig, axes = plt.subplots(nrows=1, ncols=3, figsize=(15, 5))\n",
    "    axes[0].imshow(image_cropped, cmap=\"gray\")\n",
    "    axes[0].set_title(\"Original Image\")\n",
    "    axes[1].imshow(custom_rotated_and_cropped_bssp, cmap=\"gray\")\n",
    "    axes[1].set_title(\n",
    "        f\"BSSP Rotated\\nSNR: {snr_bssp:.2f}dB, MSE: {mse_bssp:.2e}\\nAngle: {angle}°, Iter: {iterations}\\nOrder: {order}, Time: {time_custom:.2f}s\"\n",
    "    )\n",
    "    axes[2].imshow(scipy_rotated_and_cropped, cmap=\"gray\")\n",
    "    axes[2].set_title(\n",
    "        f\"SciPy Rotated\\nSNR: {snr_scipy:.2f}dB, MSE: {mse_scipy:.2e}\\nAngle: {angle}°, Iter: {iterations}\\nOrder: {order}, Time: {time_scipy:.2f}s\"\n",
    "    )\n",
    "\n",
    "    plt.tight_layout()\n",
    "    plt.subplots_adjust(top=0.80, bottom=0.15)\n",
    "    plt.show()"
   ],
   "execution_count": null,
   "outputs": []
  },
  {
   "cell_type": "markdown",
   "metadata": {},
   "source": [
    "## Load Image and Perform Rotations\n",
    "\n",
    "Load the image, perform rotations using both BSSP and SciPy methods, and display the results."
   ]
  },
  {
   "cell_type": "code",
   "metadata": {},
   "source": [
    "# Image size, Rotation angle and iterations and order of spline interpolation\n",
    "size = 1000\n",
    "angle = 72  # 72\n",
    "iterations = 5  # 5\n",
    "order = 3\n",
    "\n",
    "# Load and resize the ascent image\n",
    "image = datasets.ascent()\n",
    "image_resized = ndimage.zoom(\n",
    "    image, (size / image.shape[0], size / image.shape[1]), order=order\n",
    ")\n",
    "\n",
    "# Convert to float32\n",
    "image_resized = image_resized.astype(np.float32)\n",
    "\n",
    "# Benchmark and display rotation results\n",
    "benchmark_and_display_rotation(image_resized, angle, order, iterations)"
   ],
   "execution_count": null,
   "outputs": []
  }
 ],
 "metadata": {
  "kernelspec": {
   "display_name": "Python 3",
   "language": "python",
   "name": "python3"
  },
  "language_info": {
   "name": "python",
   "version": "3.8.5"
  }
 },
 "nbformat": 4,
 "nbformat_minor": 5
}
