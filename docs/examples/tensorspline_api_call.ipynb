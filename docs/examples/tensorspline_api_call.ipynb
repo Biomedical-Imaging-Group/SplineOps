{
 "cells": [
  {
   "cell_type": "markdown",
   "metadata": {},
   "source": [
    "# Example of using the TensorSpline API\n",
    "\n",
    "This example demonstrates how to create a basic interpolation using the TensorSpline API."
   ]
  },
  {
   "cell_type": "code",
   "metadata": {},
   "source": [
    "#!/usr/bin/env python3\n",
    "import numpy as np\n",
    "import matplotlib.pyplot as plt\n",
    "from bssp.interpolate.tensorspline import TensorSpline"
   ],
   "execution_count": null,
   "outputs": []
  },
  {
   "cell_type": "markdown",
   "metadata": {},
   "source": [
    "## Data Preparation\n",
    "\n",
    "Data type (need to provide floating numbers, \"float64\" and \"float32\" are typical)\n",
    "Create random data samples and corresponding coordinates."
   ]
  },
  {
   "cell_type": "code",
   "metadata": {},
   "source": [
    "dtype = \"float32\"\n",
    "\n",
    "nx, ny = 2, 5\n",
    "xmin, xmax = -3.1, +1\n",
    "ymin, ymax = 2, 6.5\n",
    "xx = np.linspace(xmin, xmax, nx, dtype=dtype)\n",
    "yy = np.linspace(ymin, ymax, ny, dtype=dtype)\n",
    "coordinates = xx, yy\n",
    "prng = np.random.default_rng(seed=5250)\n",
    "data = prng.standard_normal(size=tuple(c.size for c in coordinates))\n",
    "data = np.ascontiguousarray(data, dtype=dtype)"
   ],
   "execution_count": null,
   "outputs": []
  },
  {
   "cell_type": "markdown",
   "metadata": {},
   "source": [
    "## Tensor Spline Setup\n",
    "\n",
    "Tensor spline bases and signal extension modes."
   ]
  },
  {
   "cell_type": "code",
   "metadata": {},
   "source": [
    "bases = \"bspline3\"  # same basis applied to all dimensions\n",
    "modes = \"mirror\"  # same mode applied to all dimensions\n",
    "\n",
    "tensor_spline = TensorSpline(\n",
    "    data=data, coordinates=coordinates, bases=bases, modes=modes\n",
    ")"
   ],
   "execution_count": null,
   "outputs": []
  },
  {
   "cell_type": "markdown",
   "metadata": {},
   "source": [
    "## Evaluation Coordinates\n",
    "\n",
    "Create evaluation coordinates (extended and oversampled in this case)."
   ]
  },
  {
   "cell_type": "code",
   "metadata": {},
   "source": [
    "dx = (xx[-1] - xx[0]) / (nx - 1)\n",
    "dy = (yy[-1] - yy[0]) / (ny - 1)\n",
    "pad_fct = 1.1\n",
    "px = pad_fct * nx * dx\n",
    "py = pad_fct * ny * dy\n",
    "eval_xx = np.linspace(xx[0] - px, xx[-1] + px, 100 * nx)\n",
    "eval_yy = np.linspace(yy[0] - py, yy[-1] + py, 100 * ny)"
   ],
   "execution_count": null,
   "outputs": []
  },
  {
   "cell_type": "markdown",
   "metadata": {},
   "source": [
    "## Standard Evaluation\n",
    "\n",
    "Perform a standard evaluation on a grid of coordinates."
   ]
  },
  {
   "cell_type": "code",
   "metadata": {},
   "source": [
    "eval_coords = eval_xx, eval_yy\n",
    "data_eval = tensor_spline(coordinates=eval_coords)"
   ],
   "execution_count": null,
   "outputs": []
  },
  {
   "cell_type": "markdown",
   "metadata": {},
   "source": [
    "## Meshgrid Evaluation\n",
    "\n",
    "Evaluate using a meshgrid (not the default choice but could be useful in some cases)."
   ]
  },
  {
   "cell_type": "code",
   "metadata": {},
   "source": [
    "eval_coords_mg = np.meshgrid(*eval_coords, indexing=\"ij\")\n",
    "data_eval_mg = tensor_spline(coordinates=eval_coords_mg, grid=False)\n",
    "np.testing.assert_equal(data_eval, data_eval_mg)"
   ],
   "execution_count": null,
   "outputs": []
  },
  {
   "cell_type": "markdown",
   "metadata": {},
   "source": [
    "## Points Evaluation\n",
    "\n",
    "Evaluate the tensor spline at a list of points directly."
   ]
  },
  {
   "cell_type": "code",
   "metadata": {},
   "source": [
    "eval_coords_pts = np.reshape(eval_coords_mg, newshape=(2, -1))\n",
    "data_eval_pts = tensor_spline(coordinates=eval_coords_pts, grid=False)\n",
    "np.testing.assert_equal(data_eval, np.reshape(data_eval_pts, data_eval_mg.shape))"
   ],
   "execution_count": null,
   "outputs": []
  },
  {
   "cell_type": "markdown",
   "metadata": {},
   "source": [
    "## Visualization\n",
    "\n",
    "Visualize the original data samples and the interpolated data."
   ]
  },
  {
   "cell_type": "code",
   "metadata": {},
   "source": [
    "fig: plt.Figure\n",
    "ax: plt.Axes\n",
    "\n",
    "extent = [xx[0] - dx / 2, xx[-1] + dx / 2, yy[0] - dy / 2, yy[-1] + dy / 2]\n",
    "eval_extent = [\n",
    "    eval_xx[0] - dx / 2,\n",
    "    eval_xx[-1] + dx / 2,\n",
    "    eval_yy[0] - dy / 2,\n",
    "    eval_yy[-1] + dy / 2,\n",
    "]\n",
    "\n",
    "fig, axes = plt.subplots(\n",
    "    nrows=1, ncols=2, sharex=\"all\", sharey=\"all\", layout=\"constrained\"\n",
    ")\n",
    "ax = axes[0]\n",
    "ax.imshow(data.T, extent=extent)\n",
    "ax.set_title(\"Original data samples\")\n",
    "ax = axes[1]\n",
    "ax.imshow(data_eval.T, extent=eval_extent)\n",
    "ax.set_title(\"Interpolated data\")\n",
    "\n",
    "plt.show()"
   ],
   "execution_count": null,
   "outputs": []
  }
 ],
 "metadata": {
  "kernelspec": {
   "display_name": "Python 3",
   "language": "python",
   "name": "python3"
  },
  "language_info": {
   "name": "python",
   "version": "3.8.5"
  }
 },
 "nbformat": 4,
 "nbformat_minor": 5
}
