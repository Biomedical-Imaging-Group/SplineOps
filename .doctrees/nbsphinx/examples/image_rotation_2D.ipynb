{
 "cells": [
  {
   "cell_type": "markdown",
   "id": "9179b9cb",
   "metadata": {},
   "source": [
    "# 2D Image Rotation Animation\n",
    "\n",
    "This notebook demonstrates how to create an animation of a 2D image being rotated from 0 to 360 degrees using the Tensor Spline Interpolation, with each rotation performed on top of the last rotated image to observe error accumulation."
   ]
  },
  {
   "cell_type": "code",
   "execution_count": 1,
   "id": "3dd35a8f",
   "metadata": {
    "execution": {
     "iopub.execute_input": "2024-06-19T13:41:07.933246Z",
     "iopub.status.busy": "2024-06-19T13:41:07.933056Z",
     "iopub.status.idle": "2024-06-19T13:41:08.561808Z",
     "shell.execute_reply": "2024-06-19T13:41:08.561201Z"
    }
   },
   "outputs": [],
   "source": [
    "#!/usr/bin/env python3\n",
    "import numpy as np\n",
    "import cupy as cp\n",
    "import matplotlib.pyplot as plt\n",
    "from scipy import ndimage, datasets\n",
    "from IPython.display import HTML, display\n",
    "from matplotlib import animation\n",
    "\n",
    "from splineops.interpolate.tensorspline import TensorSpline"
   ]
  },
  {
   "cell_type": "markdown",
   "id": "ab56fc62",
   "metadata": {},
   "source": [
    "## Helper Functions\n",
    "\n",
    "Define the helper functions to rotate an image and create the animation."
   ]
  },
  {
   "cell_type": "code",
   "execution_count": 2,
   "id": "2978cdca",
   "metadata": {
    "execution": {
     "iopub.execute_input": "2024-06-19T13:41:08.564656Z",
     "iopub.status.busy": "2024-06-19T13:41:08.564216Z",
     "iopub.status.idle": "2024-06-19T13:41:08.572957Z",
     "shell.execute_reply": "2024-06-19T13:41:08.572496Z"
    }
   },
   "outputs": [],
   "source": [
    "def rotate_image_splineops(image, angle, order=3, mode=\"zero\"):\n",
    "    \"\"\"\n",
    "    Rotate an image by a specified angle using SplineOps' TensorSpline method.\n",
    "\n",
    "    Parameters:\n",
    "    - image: The input image as a 2D numpy array.\n",
    "    - angle: The rotation angle in degrees.\n",
    "    - order: The order of the spline (0-7).\n",
    "    - mode: The mode for handling boundaries (default is \"zero\").\n",
    "\n",
    "    Returns:\n",
    "    - Rotated image as a 2D numpy array.\n",
    "    \"\"\"\n",
    "    dtype = image.dtype\n",
    "    ny, nx = image.shape\n",
    "    xx = np.linspace(0, nx - 1, nx, dtype=dtype)\n",
    "    yy = np.linspace(0, ny - 1, ny, dtype=dtype)\n",
    "    data = np.ascontiguousarray(image, dtype=dtype)\n",
    "\n",
    "    rotated_image_cp = cp.asarray(data)\n",
    "    xx_cp = cp.asarray(xx)\n",
    "    yy_cp = cp.asarray(yy)\n",
    "\n",
    "    order = max(0, min(order, 7))\n",
    "    basis = f\"bspline{order}\"\n",
    "\n",
    "    tensor_spline = TensorSpline(\n",
    "        data=rotated_image_cp, coordinates=(yy_cp, xx_cp), bases=basis, modes=mode\n",
    "    )\n",
    "    angle_rad = np.radians(-angle)\n",
    "    cos_angle, sin_angle = np.cos(angle_rad), np.sin(angle_rad)\n",
    "    original_center_x, original_center_y = (nx - 1) / 2.0, (ny - 1) / 2.0\n",
    "    oy, ox = cp.ogrid[0:ny, 0:nx]\n",
    "    ox = ox - original_center_x\n",
    "    oy = oy - original_center_y\n",
    "\n",
    "    nx_coords = cos_angle * ox + sin_angle * oy + original_center_x\n",
    "    ny_coords = -sin_angle * ox + cos_angle * oy + original_center_y\n",
    "\n",
    "    eval_coords_cp = cp.asarray(ny_coords.flatten()), cp.asarray(nx_coords.flatten())\n",
    "    interpolated_values_cp = tensor_spline(coordinates=eval_coords_cp, grid=False)\n",
    "    rotated_image_cp = interpolated_values_cp.reshape(ny, nx)\n",
    "\n",
    "    rotated_image = rotated_image_cp.get()\n",
    "    cp.get_default_memory_pool().free_all_blocks()\n",
    "    return rotated_image"
   ]
  },
  {
   "cell_type": "markdown",
   "id": "af618cf0",
   "metadata": {},
   "source": [
    "## Load and Preprocess Image\n",
    "\n",
    "Load the image and preprocess it for the rotation animation."
   ]
  },
  {
   "cell_type": "code",
   "execution_count": 3,
   "id": "d44357c2",
   "metadata": {
    "execution": {
     "iopub.execute_input": "2024-06-19T13:41:08.575257Z",
     "iopub.status.busy": "2024-06-19T13:41:08.574911Z",
     "iopub.status.idle": "2024-06-19T13:41:08.791603Z",
     "shell.execute_reply": "2024-06-19T13:41:08.791007Z"
    }
   },
   "outputs": [
    {
     "ename": "ImportError",
     "evalue": "Missing optional dependency 'pooch' required for scipy.datasets module. Please use pip or conda to install 'pooch'.",
     "output_type": "error",
     "traceback": [
      "\u001b[0;31m---------------------------------------------------------------------------\u001b[0m",
      "\u001b[0;31mImportError\u001b[0m                               Traceback (most recent call last)",
      "Cell \u001b[0;32mIn[3], line 2\u001b[0m\n\u001b[1;32m      1\u001b[0m \u001b[38;5;66;03m# Load and resize the ascent image\u001b[39;00m\n\u001b[0;32m----> 2\u001b[0m image \u001b[38;5;241m=\u001b[39m \u001b[43mdatasets\u001b[49m\u001b[38;5;241;43m.\u001b[39;49m\u001b[43mascent\u001b[49m\u001b[43m(\u001b[49m\u001b[43m)\u001b[49m\n\u001b[1;32m      3\u001b[0m size \u001b[38;5;241m=\u001b[39m \u001b[38;5;241m500\u001b[39m  \u001b[38;5;66;03m# Resize image to 500x500 for faster computation\u001b[39;00m\n\u001b[1;32m      4\u001b[0m order \u001b[38;5;241m=\u001b[39m \u001b[38;5;241m3\u001b[39m\n",
      "File \u001b[0;32m/usr/share/miniconda/envs/splineops_env/lib/python3.9/site-packages/scipy/datasets/_fetchers.py:71\u001b[0m, in \u001b[0;36mascent\u001b[0;34m()\u001b[0m\n\u001b[1;32m     66\u001b[0m \u001b[38;5;28;01mimport\u001b[39;00m \u001b[38;5;21;01mpickle\u001b[39;00m\n\u001b[1;32m     68\u001b[0m \u001b[38;5;66;03m# The file will be downloaded automatically the first time this is run,\u001b[39;00m\n\u001b[1;32m     69\u001b[0m \u001b[38;5;66;03m# returning the path to the downloaded file. Afterwards, Pooch finds\u001b[39;00m\n\u001b[1;32m     70\u001b[0m \u001b[38;5;66;03m# it in the local cache and doesn't repeat the download.\u001b[39;00m\n\u001b[0;32m---> 71\u001b[0m fname \u001b[38;5;241m=\u001b[39m \u001b[43mfetch_data\u001b[49m\u001b[43m(\u001b[49m\u001b[38;5;124;43m\"\u001b[39;49m\u001b[38;5;124;43mascent.dat\u001b[39;49m\u001b[38;5;124;43m\"\u001b[39;49m\u001b[43m)\u001b[49m\n\u001b[1;32m     72\u001b[0m \u001b[38;5;66;03m# Now we just need to load it with our standard Python tools.\u001b[39;00m\n\u001b[1;32m     73\u001b[0m \u001b[38;5;28;01mwith\u001b[39;00m \u001b[38;5;28mopen\u001b[39m(fname, \u001b[38;5;124m'\u001b[39m\u001b[38;5;124mrb\u001b[39m\u001b[38;5;124m'\u001b[39m) \u001b[38;5;28;01mas\u001b[39;00m f:\n",
      "File \u001b[0;32m/usr/share/miniconda/envs/splineops_env/lib/python3.9/site-packages/scipy/datasets/_fetchers.py:27\u001b[0m, in \u001b[0;36mfetch_data\u001b[0;34m(dataset_name, data_fetcher)\u001b[0m\n\u001b[1;32m     25\u001b[0m \u001b[38;5;28;01mdef\u001b[39;00m \u001b[38;5;21mfetch_data\u001b[39m(dataset_name, data_fetcher\u001b[38;5;241m=\u001b[39mdata_fetcher):\n\u001b[1;32m     26\u001b[0m     \u001b[38;5;28;01mif\u001b[39;00m data_fetcher \u001b[38;5;129;01mis\u001b[39;00m \u001b[38;5;28;01mNone\u001b[39;00m:\n\u001b[0;32m---> 27\u001b[0m         \u001b[38;5;28;01mraise\u001b[39;00m \u001b[38;5;167;01mImportError\u001b[39;00m(\u001b[38;5;124m\"\u001b[39m\u001b[38;5;124mMissing optional dependency \u001b[39m\u001b[38;5;124m'\u001b[39m\u001b[38;5;124mpooch\u001b[39m\u001b[38;5;124m'\u001b[39m\u001b[38;5;124m required \u001b[39m\u001b[38;5;124m\"\u001b[39m\n\u001b[1;32m     28\u001b[0m                           \u001b[38;5;124m\"\u001b[39m\u001b[38;5;124mfor scipy.datasets module. Please use pip or \u001b[39m\u001b[38;5;124m\"\u001b[39m\n\u001b[1;32m     29\u001b[0m                           \u001b[38;5;124m\"\u001b[39m\u001b[38;5;124mconda to install \u001b[39m\u001b[38;5;124m'\u001b[39m\u001b[38;5;124mpooch\u001b[39m\u001b[38;5;124m'\u001b[39m\u001b[38;5;124m.\u001b[39m\u001b[38;5;124m\"\u001b[39m)\n\u001b[1;32m     30\u001b[0m     \u001b[38;5;66;03m# The \"fetch\" method returns the full path to the downloaded data file.\u001b[39;00m\n\u001b[1;32m     31\u001b[0m     \u001b[38;5;28;01mreturn\u001b[39;00m data_fetcher\u001b[38;5;241m.\u001b[39mfetch(dataset_name)\n",
      "\u001b[0;31mImportError\u001b[0m: Missing optional dependency 'pooch' required for scipy.datasets module. Please use pip or conda to install 'pooch'."
     ]
    }
   ],
   "source": [
    "# Load and resize the ascent image\n",
    "image = datasets.ascent()\n",
    "size = 500  # Resize image to 500x500 for faster computation\n",
    "order = 3\n",
    "image_resized = ndimage.zoom(\n",
    "    image, (size / image.shape[0], size / image.shape[1]), order=order\n",
    ")\n",
    "\n",
    "# Convert to float32\n",
    "image_resized = image_resized.astype(np.float32)"
   ]
  },
  {
   "cell_type": "markdown",
   "id": "16132ed5",
   "metadata": {},
   "source": [
    "## Create Animation\n",
    "\n",
    "Create the animation of the image being rotated from 0 to 360 degrees."
   ]
  },
  {
   "cell_type": "code",
   "execution_count": 4,
   "id": "cbdb11dc",
   "metadata": {
    "execution": {
     "iopub.execute_input": "2024-06-19T13:41:08.794265Z",
     "iopub.status.busy": "2024-06-19T13:41:08.793881Z",
     "iopub.status.idle": "2024-06-19T13:41:08.838283Z",
     "shell.execute_reply": "2024-06-19T13:41:08.837700Z"
    }
   },
   "outputs": [
    {
     "ename": "NameError",
     "evalue": "name 'image_resized' is not defined",
     "output_type": "error",
     "traceback": [
      "\u001b[0;31m---------------------------------------------------------------------------\u001b[0m",
      "\u001b[0;31mNameError\u001b[0m                                 Traceback (most recent call last)",
      "Cell \u001b[0;32mIn[4], line 4\u001b[0m\n\u001b[1;32m      2\u001b[0m fig, ax \u001b[38;5;241m=\u001b[39m plt\u001b[38;5;241m.\u001b[39msubplots()\n\u001b[1;32m      3\u001b[0m ax\u001b[38;5;241m.\u001b[39maxis(\u001b[38;5;124m'\u001b[39m\u001b[38;5;124moff\u001b[39m\u001b[38;5;124m'\u001b[39m)\n\u001b[0;32m----> 4\u001b[0m original_image \u001b[38;5;241m=\u001b[39m \u001b[43mimage_resized\u001b[49m\u001b[38;5;241m.\u001b[39mcopy()\n\u001b[1;32m      5\u001b[0m image_rotated \u001b[38;5;241m=\u001b[39m original_image\u001b[38;5;241m.\u001b[39mcopy()\n\u001b[1;32m      6\u001b[0m image_plot \u001b[38;5;241m=\u001b[39m ax\u001b[38;5;241m.\u001b[39mimshow(image_rotated, cmap\u001b[38;5;241m=\u001b[39m\u001b[38;5;124m'\u001b[39m\u001b[38;5;124mgray\u001b[39m\u001b[38;5;124m'\u001b[39m)\n",
      "\u001b[0;31mNameError\u001b[0m: name 'image_resized' is not defined"
     ]
    },
    {
     "data": {
      "image/png": "[encoded data removed]",
      "text/plain": [
       "<Figure size 640x480 with 1 Axes>"
      ]
     },
     "metadata": {},
     "output_type": "display_data"
    }
   ],
   "source": [
    "# Create a figure and axis\n",
    "fig, ax = plt.subplots()\n",
    "ax.axis('off')\n",
    "original_image = image_resized.copy()\n",
    "image_rotated = original_image.copy()\n",
    "image_plot = ax.imshow(image_rotated, cmap='gray')\n",
    "\n",
    "# Animation function\n",
    "def animate(frame):\n",
    "    global image_rotated\n",
    "    if frame > 0:\n",
    "        image_rotated = rotate_image_splineops(image_rotated, 5, order=order)  # Rotate by 5 degrees each frame\n",
    "    image_plot.set_data(image_rotated)\n",
    "    return [image_plot]\n",
    "\n",
    "# Create the animation\n",
    "ani = animation.FuncAnimation(fig, animate, frames=73, interval=50, blit=True)\n",
    "plt.close(fig)  # Prevents the initial still image from displaying\n",
    "display(HTML(ani.to_jshtml()))"
   ]
  }
 ],
 "metadata": {
  "kernelspec": {
   "display_name": "Python 3 (ipykernel)",
   "language": "python",
   "name": "python3"
  },
  "language_info": {
   "codemirror_mode": {
    "name": "ipython",
    "version": 3
   },
   "file_extension": ".py",
   "mimetype": "text/x-python",
   "name": "python",
   "nbconvert_exporter": "python",
   "pygments_lexer": "ipython3",
   "version": "3.9.19"
  }
 },
 "nbformat": 4,
 "nbformat_minor": 5
}
