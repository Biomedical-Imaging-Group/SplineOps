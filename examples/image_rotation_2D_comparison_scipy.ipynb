{
 "cells": [
  {
   "cell_type": "markdown",
   "id": "167c544c",
   "metadata": {},
   "source": [
    "# Example of doing an image rotation in 2D and comparing against Scipy\n",
    "\n",
    "This example demonstrates how to create a basic rotation using the TensorSpline API and comparing against Scipy's."
   ]
  },
  {
   "cell_type": "code",
   "execution_count": 1,
   "id": "f38cb2ae",
   "metadata": {
    "execution": {
     "iopub.execute_input": "2024-06-24T12:36:45.575527Z",
     "iopub.status.busy": "2024-06-24T12:36:45.575348Z",
     "iopub.status.idle": "2024-06-24T12:36:46.176770Z",
     "shell.execute_reply": "2024-06-24T12:36:46.176129Z"
    }
   },
   "outputs": [],
   "source": [
    "#!/usr/bin/env python3\n",
    "import numpy as np\n",
    "import cupy as cp\n",
    "import matplotlib.pyplot as plt\n",
    "import time\n",
    "from scipy import ndimage, datasets\n",
    "\n",
    "from splineops.interpolate.tensorspline import TensorSpline"
   ]
  },
  {
   "cell_type": "markdown",
   "id": "bf149934",
   "metadata": {},
   "source": [
    "## Calculate Inscribed Rectangle Bounds from Image\n",
    "\n",
    "Calculate the bounds for the largest rectangle that can be inscribed within a circle, which itself is inscribed within the original image, based on the image array directly."
   ]
  },
  {
   "cell_type": "code",
   "execution_count": 2,
   "id": "ef2dab7d",
   "metadata": {
    "execution": {
     "iopub.execute_input": "2024-06-24T12:36:46.179578Z",
     "iopub.status.busy": "2024-06-24T12:36:46.179342Z",
     "iopub.status.idle": "2024-06-24T12:36:46.186688Z",
     "shell.execute_reply": "2024-06-24T12:36:46.186094Z"
    }
   },
   "outputs": [],
   "source": [
    "def calculate_inscribed_rectangle_bounds_from_image(image):\n",
    "    \"\"\"\n",
    "    Calculate the bounds for the largest rectangle that can be inscribed\n",
    "    within a circle, which itself is inscribed within the original image,\n",
    "    based on the image array directly.\n",
    "\n",
    "    The rectangle and the circle are centered within the original image.\n",
    "\n",
    "    Parameters:\n",
    "    - image: The input image as a 2D or 3D numpy array.\n",
    "\n",
    "    Returns:\n",
    "    - A tuple (x_min, y_min, x_max, y_max) representing the bounds for cropping.\n",
    "    \"\"\"\n",
    "    # Extract image dimensions\n",
    "    height, width = image.shape[:2]\n",
    "\n",
    "    # Calculate the radius of the inscribed circle\n",
    "    radius = min(width, height) / 2\n",
    "\n",
    "    # The side length of the square (largest inscribed rectangle in a circle)\n",
    "    side_length = radius * np.sqrt(2)\n",
    "\n",
    "    # Calculate the center of the image\n",
    "    cx, cy = width / 2, height / 2\n",
    "\n",
    "    # Calculate the bounds of the largest inscribed rectangle\n",
    "    x_min = int(cx - side_length / 2)\n",
    "    y_min = int(cy - side_length / 2)\n",
    "    x_max = int(cx + side_length / 2)\n",
    "    y_max = int(cy + side_length / 2)\n",
    "\n",
    "    return np.array([x_min, y_min, x_max, y_max])"
   ]
  },
  {
   "cell_type": "markdown",
   "id": "1b21e4e4",
   "metadata": {},
   "source": [
    "## Crop Image to Bounds\n",
    "\n",
    "Crop an image to the specified bounds."
   ]
  },
  {
   "cell_type": "code",
   "execution_count": 3,
   "id": "42975ecb",
   "metadata": {
    "execution": {
     "iopub.execute_input": "2024-06-24T12:36:46.188996Z",
     "iopub.status.busy": "2024-06-24T12:36:46.188530Z",
     "iopub.status.idle": "2024-06-24T12:36:46.191677Z",
     "shell.execute_reply": "2024-06-24T12:36:46.191156Z"
    }
   },
   "outputs": [],
   "source": [
    "def crop_image_to_bounds(image, bounds):\n",
    "    \"\"\"\n",
    "    Crop an image to the specified bounds.\n",
    "\n",
    "    Parameters:\n",
    "    - image: The input image as a 2D numpy array.\n",
    "    - bounds: An array of (x_min, y_min, x_max, y_max) defining the crop bounds,\n",
    "              where these values are absolute pixel coordinates in the image.\n",
    "\n",
    "    Returns:\n",
    "    - Cropped image as a 2D numpy array.\n",
    "    \"\"\"\n",
    "    x_min, y_min, x_max, y_max = bounds\n",
    "    return image[y_min:y_max, x_min:x_max]"
   ]
  },
  {
   "cell_type": "markdown",
   "id": "832045a8",
   "metadata": {},
   "source": [
    "## Calculate Signal-to-Noise Ratio (SNR)\n",
    "\n",
    "Compute the Signal-to-Noise Ratio (SNR) between the original and modified images."
   ]
  },
  {
   "cell_type": "code",
   "execution_count": 4,
   "id": "7b163c1f",
   "metadata": {
    "execution": {
     "iopub.execute_input": "2024-06-24T12:36:46.193927Z",
     "iopub.status.busy": "2024-06-24T12:36:46.193467Z",
     "iopub.status.idle": "2024-06-24T12:36:46.197181Z",
     "shell.execute_reply": "2024-06-24T12:36:46.196697Z"
    }
   },
   "outputs": [],
   "source": [
    "def calculate_snr(original, modified):\n",
    "    \"\"\"\n",
    "    Compute the Signal-to-Noise Ratio (SNR) between the original and modified images.\n",
    "\n",
    "    Parameters:\n",
    "    - original: The original image as a 2D numpy array.\n",
    "    - modified: The modified (rotated) image as a 2D numpy array.\n",
    "\n",
    "    Returns:\n",
    "    - SNR value as a float.\n",
    "    \"\"\"\n",
    "    original_normalized = original / 255.0 if original.max() > 1 else original\n",
    "    processed_normalized = modified / 255.0 if modified.max() > 1 else modified\n",
    "    noise = original_normalized - processed_normalized\n",
    "    mean_signal = np.mean(original_normalized)\n",
    "    variance_noise = np.var(noise)\n",
    "    epsilon = 1e-3\n",
    "    snr = 10 * np.log10((mean_signal**2) / (variance_noise + epsilon))\n",
    "    return snr"
   ]
  },
  {
   "cell_type": "markdown",
   "id": "0b0a7507",
   "metadata": {},
   "source": [
    "## Calculate Mean Squared Error (MSE)\n",
    "\n",
    "Compute the Mean Squared Error (MSE) between the original and modified images."
   ]
  },
  {
   "cell_type": "code",
   "execution_count": 5,
   "id": "f29c3ad2",
   "metadata": {
    "execution": {
     "iopub.execute_input": "2024-06-24T12:36:46.199305Z",
     "iopub.status.busy": "2024-06-24T12:36:46.199024Z",
     "iopub.status.idle": "2024-06-24T12:36:46.202074Z",
     "shell.execute_reply": "2024-06-24T12:36:46.201489Z"
    }
   },
   "outputs": [],
   "source": [
    "def calculate_mse(original, modified):\n",
    "    \"\"\"\n",
    "    Compute the Mean Squared Error (MSE) between the original and modified images.\n",
    "\n",
    "    Parameters:\n",
    "    - original: The original image as a 2D numpy array.\n",
    "    - modified: The modified (rotated) image as a 2D numpy array.\n",
    "\n",
    "    Returns:\n",
    "    - MSE value as a float.\n",
    "    \"\"\"\n",
    "    mse = np.mean((original - modified) ** 2)\n",
    "    return mse"
   ]
  },
  {
   "cell_type": "markdown",
   "id": "ed4327a3",
   "metadata": {},
   "source": [
    "## Rotate Image and Crop using BSSP\n",
    "\n",
    "Rotate an image by a specified angle using the BSSP library's TensorSpline method and crop the result."
   ]
  },
  {
   "cell_type": "code",
   "execution_count": 6,
   "id": "e1ae86ab",
   "metadata": {
    "execution": {
     "iopub.execute_input": "2024-06-24T12:36:46.204280Z",
     "iopub.status.busy": "2024-06-24T12:36:46.203864Z",
     "iopub.status.idle": "2024-06-24T12:36:46.210350Z",
     "shell.execute_reply": "2024-06-24T12:36:46.209748Z"
    }
   },
   "outputs": [],
   "source": [
    "def rotate_image_and_crop_bssp(image, angle, degree=3, mode=\"zero\", iterations=1):\n",
    "    \"\"\"\n",
    "    Rotate an image by a specified angle using the BSSP library's TensorSpline method and crop the result.\n",
    "\n",
    "    Parameters:\n",
    "    - image: The input image as a 2D numpy array.\n",
    "    - angle: The rotation angle in degrees.\n",
    "    - degree: The degree of the spline (0-7).\n",
    "    - mode: The mode for handling boundaries (default is \"zero\").\n",
    "    - iterations: The number of iterations to apply the rotation.\n",
    "\n",
    "    Returns:\n",
    "    - Rotated image as a 2D numpy array.\n",
    "    \"\"\"\n",
    "    dtype = image.dtype\n",
    "    ny, nx = image.shape\n",
    "    xx = np.linspace(0, nx - 1, nx, dtype=dtype)\n",
    "    yy = np.linspace(0, ny - 1, ny, dtype=dtype)\n",
    "    data = np.ascontiguousarray(image, dtype=dtype)\n",
    "\n",
    "    rotated_image_cp = cp.asarray(data)\n",
    "    xx_cp = cp.asarray(xx)\n",
    "    yy_cp = cp.asarray(yy)\n",
    "\n",
    "    degree = max(0, min(degree, 7))\n",
    "    basis = f\"bspline{degree}\"\n",
    "\n",
    "    for _ in range(iterations):\n",
    "        tensor_spline = TensorSpline(\n",
    "            data=rotated_image_cp, coordinates=(yy_cp, xx_cp), bases=basis, modes=mode\n",
    "        )\n",
    "        angle_rad = np.radians(-angle)\n",
    "        cos_angle, sin_angle = np.cos(angle_rad), np.sin(angle_rad)\n",
    "        original_center_x, original_center_y = (nx - 1) / 2.0, (ny - 1) / 2.0\n",
    "        oy, ox = cp.ogrid[0:ny, 0:nx]\n",
    "        ox = ox - original_center_x\n",
    "        oy = oy - original_center_y\n",
    "\n",
    "        nx_coords = cos_angle * ox + sin_angle * oy + original_center_x\n",
    "        ny_coords = -sin_angle * ox + cos_angle * oy + original_center_y\n",
    "\n",
    "        eval_coords_cp = cp.asarray(ny_coords.flatten()), cp.asarray(\n",
    "            nx_coords.flatten()\n",
    "        )\n",
    "        interpolated_values_cp = tensor_spline(coordinates=eval_coords_cp, grid=False)\n",
    "        rotated_image_cp = interpolated_values_cp.reshape(ny, nx)\n",
    "\n",
    "    rotated_image = rotated_image_cp.get()\n",
    "    cp.get_default_memory_pool().free_all_blocks()\n",
    "    return rotated_image"
   ]
  },
  {
   "cell_type": "markdown",
   "id": "700bd3af",
   "metadata": {},
   "source": [
    "## Rotate Image and Crop using SciPy\n",
    "\n",
    "Rotate an image by a specified angle using SciPy's ndimage.rotate function and crop the result."
   ]
  },
  {
   "cell_type": "code",
   "execution_count": 7,
   "id": "56aff50e",
   "metadata": {
    "execution": {
     "iopub.execute_input": "2024-06-24T12:36:46.212542Z",
     "iopub.status.busy": "2024-06-24T12:36:46.212208Z",
     "iopub.status.idle": "2024-06-24T12:36:46.215725Z",
     "shell.execute_reply": "2024-06-24T12:36:46.215158Z"
    }
   },
   "outputs": [],
   "source": [
    "def rotate_image_and_crop_scipy(image, angle, order=3, iterations=5):\n",
    "    \"\"\"\n",
    "    Rotate an image by a specified angle using SciPy's ndimage.rotate function and crop the result.\n",
    "\n",
    "    Parameters:\n",
    "    - image: The input image as a 2D numpy array.\n",
    "    - angle: The rotation angle in degrees.\n",
    "    - order: The order of the spline (0-5).\n",
    "    - iterations: The number of iterations to apply the rotation.\n",
    "\n",
    "    Returns:\n",
    "    - Rotated image as a 2D numpy array.\n",
    "    \"\"\"\n",
    "    rotated_image = image.copy()\n",
    "    for _ in range(iterations):\n",
    "        rotated_image = ndimage.rotate(\n",
    "            rotated_image, angle, reshape=False, order=order, mode=\"constant\", cval=0\n",
    "        )\n",
    "    return rotated_image"
   ]
  },
  {
   "cell_type": "markdown",
   "id": "86b70830",
   "metadata": {},
   "source": [
    "## Benchmark and Display Rotation\n",
    "\n",
    "Perform a benchmark of the rotation operation for both BSSP and SciPy libraries and display images."
   ]
  },
  {
   "cell_type": "code",
   "execution_count": 8,
   "id": "b9246482",
   "metadata": {
    "execution": {
     "iopub.execute_input": "2024-06-24T12:36:46.218040Z",
     "iopub.status.busy": "2024-06-24T12:36:46.217710Z",
     "iopub.status.idle": "2024-06-24T12:36:46.223865Z",
     "shell.execute_reply": "2024-06-24T12:36:46.223273Z"
    }
   },
   "outputs": [],
   "source": [
    "def benchmark_and_display_rotation(image, angle, degree, iterations):\n",
    "    \"\"\"\n",
    "    Perform a benchmark of the rotation operation for both BSSP and SciPy libraries and display images.\n",
    "\n",
    "    Parameters:\n",
    "    - image: The input image as a 2D numpy array.\n",
    "    - angle: The rotation angle in degrees.\n",
    "    - degree: The degree of the spline (0-7).\n",
    "    - iterations: The number of iterations to apply the rotation.\n",
    "    \"\"\"\n",
    "    start_time_custom = time.time()\n",
    "    custom_rotated_and_cropped_bssp = rotate_image_and_crop_bssp(\n",
    "        image, angle, degree=degree, mode=\"zero\", iterations=iterations\n",
    "    )\n",
    "    time_custom = time.time() - start_time_custom\n",
    "\n",
    "    start_time_scipy = time.time()\n",
    "    scipy_rotated_and_cropped = rotate_image_and_crop_scipy(\n",
    "        image, angle, order=degree, iterations=iterations\n",
    "    )\n",
    "    time_scipy = time.time() - start_time_scipy\n",
    "\n",
    "    bounds = calculate_inscribed_rectangle_bounds_from_image(image)\n",
    "    image_cropped = crop_image_to_bounds(image, bounds)\n",
    "    custom_rotated_and_cropped_bssp = crop_image_to_bounds(\n",
    "        custom_rotated_and_cropped_bssp, bounds\n",
    "    )\n",
    "    scipy_rotated_and_cropped = crop_image_to_bounds(scipy_rotated_and_cropped, bounds)\n",
    "\n",
    "    snr_bssp = calculate_snr(image_cropped, custom_rotated_and_cropped_bssp)\n",
    "    snr_scipy = calculate_snr(image_cropped, scipy_rotated_and_cropped)\n",
    "    mse_bssp = calculate_mse(image_cropped, custom_rotated_and_cropped_bssp)\n",
    "    mse_scipy = calculate_mse(image_cropped, scipy_rotated_and_cropped)\n",
    "\n",
    "    fig, axes = plt.subplots(nrows=3, ncols=1, figsize=(10, 20))\n",
    "    axes[0].imshow(image_cropped, cmap=\"gray\")\n",
    "    axes[0].set_title(\"Original Image\")\n",
    "    axes[1].imshow(custom_rotated_and_cropped_bssp, cmap=\"gray\")\n",
    "    axes[1].set_title(\n",
    "        f\"BSSP Rotated\\nSNR: {snr_bssp:.2f}dB, MSE: {mse_bssp:.2e}\\nAngle: {angle}°, Iter: {iterations}\\nDegree: {degree}, Time: {time_custom:.2f}s\"\n",
    "    )\n",
    "    axes[2].imshow(scipy_rotated_and_cropped, cmap=\"gray\")\n",
    "    axes[2].set_title(\n",
    "        f\"SciPy Rotated\\nSNR: {snr_scipy:.2f}dB, MSE: {mse_scipy:.2e}\\nAngle: {angle}°, Iter: {iterations}\\nDegree: {degree}, Time: {time_scipy:.2f}s\"\n",
    "    )\n",
    "\n",
    "    plt.tight_layout()\n",
    "    plt.subplots_adjust(hspace=0.4, top=0.95, bottom=0.05)\n",
    "    plt.show()"
   ]
  },
  {
   "cell_type": "markdown",
   "id": "a263f6ef",
   "metadata": {},
   "source": [
    "## Load Image and Perform Rotations\n",
    "\n",
    "Load the image, perform rotations using both BSSP and SciPy methods, and display the results."
   ]
  },
  {
   "cell_type": "code",
   "execution_count": 9,
   "id": "54876330",
   "metadata": {
    "execution": {
     "iopub.execute_input": "2024-06-24T12:36:46.226123Z",
     "iopub.status.busy": "2024-06-24T12:36:46.225765Z",
     "iopub.status.idle": "2024-06-24T12:36:46.549454Z",
     "shell.execute_reply": "2024-06-24T12:36:46.548765Z"
    }
   },
   "outputs": [
    {
     "ename": "CUDARuntimeError",
     "evalue": "cudaErrorInsufficientDriver: CUDA driver version is insufficient for CUDA runtime version",
     "output_type": "error",
     "traceback": [
      "\u001b[0;31m---------------------------------------------------------------------------\u001b[0m",
      "\u001b[0;31mCUDARuntimeError\u001b[0m                          Traceback (most recent call last)",
      "Cell \u001b[0;32mIn[9], line 17\u001b[0m\n\u001b[1;32m     14\u001b[0m image_resized \u001b[38;5;241m=\u001b[39m image_resized\u001b[38;5;241m.\u001b[39mastype(np\u001b[38;5;241m.\u001b[39mfloat32)\n\u001b[1;32m     16\u001b[0m \u001b[38;5;66;03m# Benchmark and display rotation results\u001b[39;00m\n\u001b[0;32m---> 17\u001b[0m \u001b[43mbenchmark_and_display_rotation\u001b[49m\u001b[43m(\u001b[49m\u001b[43mimage_resized\u001b[49m\u001b[43m,\u001b[49m\u001b[43m \u001b[49m\u001b[43mangle\u001b[49m\u001b[43m,\u001b[49m\u001b[43m \u001b[49m\u001b[43mdegree\u001b[49m\u001b[43m,\u001b[49m\u001b[43m \u001b[49m\u001b[43miterations\u001b[49m\u001b[43m)\u001b[49m\n",
      "Cell \u001b[0;32mIn[8], line 12\u001b[0m, in \u001b[0;36mbenchmark_and_display_rotation\u001b[0;34m(image, angle, degree, iterations)\u001b[0m\n\u001b[1;32m      2\u001b[0m \u001b[38;5;250m\u001b[39m\u001b[38;5;124;03m\"\"\"\u001b[39;00m\n\u001b[1;32m      3\u001b[0m \u001b[38;5;124;03mPerform a benchmark of the rotation operation for both BSSP and SciPy libraries and display images.\u001b[39;00m\n\u001b[1;32m      4\u001b[0m \n\u001b[0;32m   (...)\u001b[0m\n\u001b[1;32m      9\u001b[0m \u001b[38;5;124;03m- iterations: The number of iterations to apply the rotation.\u001b[39;00m\n\u001b[1;32m     10\u001b[0m \u001b[38;5;124;03m\"\"\"\u001b[39;00m\n\u001b[1;32m     11\u001b[0m start_time_custom \u001b[38;5;241m=\u001b[39m time\u001b[38;5;241m.\u001b[39mtime()\n\u001b[0;32m---> 12\u001b[0m custom_rotated_and_cropped_bssp \u001b[38;5;241m=\u001b[39m \u001b[43mrotate_image_and_crop_bssp\u001b[49m\u001b[43m(\u001b[49m\n\u001b[1;32m     13\u001b[0m \u001b[43m    \u001b[49m\u001b[43mimage\u001b[49m\u001b[43m,\u001b[49m\u001b[43m \u001b[49m\u001b[43mangle\u001b[49m\u001b[43m,\u001b[49m\u001b[43m \u001b[49m\u001b[43mdegree\u001b[49m\u001b[38;5;241;43m=\u001b[39;49m\u001b[43mdegree\u001b[49m\u001b[43m,\u001b[49m\u001b[43m \u001b[49m\u001b[43mmode\u001b[49m\u001b[38;5;241;43m=\u001b[39;49m\u001b[38;5;124;43m\"\u001b[39;49m\u001b[38;5;124;43mzero\u001b[39;49m\u001b[38;5;124;43m\"\u001b[39;49m\u001b[43m,\u001b[49m\u001b[43m \u001b[49m\u001b[43miterations\u001b[49m\u001b[38;5;241;43m=\u001b[39;49m\u001b[43miterations\u001b[49m\n\u001b[1;32m     14\u001b[0m \u001b[43m\u001b[49m\u001b[43m)\u001b[49m\n\u001b[1;32m     15\u001b[0m time_custom \u001b[38;5;241m=\u001b[39m time\u001b[38;5;241m.\u001b[39mtime() \u001b[38;5;241m-\u001b[39m start_time_custom\n\u001b[1;32m     17\u001b[0m start_time_scipy \u001b[38;5;241m=\u001b[39m time\u001b[38;5;241m.\u001b[39mtime()\n",
      "Cell \u001b[0;32mIn[6], line 21\u001b[0m, in \u001b[0;36mrotate_image_and_crop_bssp\u001b[0;34m(image, angle, degree, mode, iterations)\u001b[0m\n\u001b[1;32m     18\u001b[0m yy \u001b[38;5;241m=\u001b[39m np\u001b[38;5;241m.\u001b[39mlinspace(\u001b[38;5;241m0\u001b[39m, ny \u001b[38;5;241m-\u001b[39m \u001b[38;5;241m1\u001b[39m, ny, dtype\u001b[38;5;241m=\u001b[39mdtype)\n\u001b[1;32m     19\u001b[0m data \u001b[38;5;241m=\u001b[39m np\u001b[38;5;241m.\u001b[39mascontiguousarray(image, dtype\u001b[38;5;241m=\u001b[39mdtype)\n\u001b[0;32m---> 21\u001b[0m rotated_image_cp \u001b[38;5;241m=\u001b[39m \u001b[43mcp\u001b[49m\u001b[38;5;241;43m.\u001b[39;49m\u001b[43masarray\u001b[49m\u001b[43m(\u001b[49m\u001b[43mdata\u001b[49m\u001b[43m)\u001b[49m\n\u001b[1;32m     22\u001b[0m xx_cp \u001b[38;5;241m=\u001b[39m cp\u001b[38;5;241m.\u001b[39masarray(xx)\n\u001b[1;32m     23\u001b[0m yy_cp \u001b[38;5;241m=\u001b[39m cp\u001b[38;5;241m.\u001b[39masarray(yy)\n",
      "File \u001b[0;32m/usr/share/miniconda/envs/splineops_env/lib/python3.9/site-packages/cupy/_creation/from_data.py:88\u001b[0m, in \u001b[0;36masarray\u001b[0;34m(a, dtype, order, blocking)\u001b[0m\n\u001b[1;32m     56\u001b[0m \u001b[38;5;28;01mdef\u001b[39;00m \u001b[38;5;21masarray\u001b[39m(a, dtype\u001b[38;5;241m=\u001b[39m\u001b[38;5;28;01mNone\u001b[39;00m, order\u001b[38;5;241m=\u001b[39m\u001b[38;5;28;01mNone\u001b[39;00m, \u001b[38;5;241m*\u001b[39m, blocking\u001b[38;5;241m=\u001b[39m\u001b[38;5;28;01mFalse\u001b[39;00m):\n\u001b[1;32m     57\u001b[0m \u001b[38;5;250m    \u001b[39m\u001b[38;5;124;03m\"\"\"Converts an object to array.\u001b[39;00m\n\u001b[1;32m     58\u001b[0m \n\u001b[1;32m     59\u001b[0m \u001b[38;5;124;03m    This is equivalent to ``array(a, dtype, copy=False, order=order)``.\u001b[39;00m\n\u001b[0;32m   (...)\u001b[0m\n\u001b[1;32m     86\u001b[0m \n\u001b[1;32m     87\u001b[0m \u001b[38;5;124;03m    \"\"\"\u001b[39;00m\n\u001b[0;32m---> 88\u001b[0m     \u001b[38;5;28;01mreturn\u001b[39;00m \u001b[43m_core\u001b[49m\u001b[38;5;241;43m.\u001b[39;49m\u001b[43marray\u001b[49m\u001b[43m(\u001b[49m\u001b[43ma\u001b[49m\u001b[43m,\u001b[49m\u001b[43m \u001b[49m\u001b[43mdtype\u001b[49m\u001b[43m,\u001b[49m\u001b[43m \u001b[49m\u001b[38;5;28;43;01mFalse\u001b[39;49;00m\u001b[43m,\u001b[49m\u001b[43m \u001b[49m\u001b[43morder\u001b[49m\u001b[43m,\u001b[49m\u001b[43m \u001b[49m\u001b[43mblocking\u001b[49m\u001b[38;5;241;43m=\u001b[39;49m\u001b[43mblocking\u001b[49m\u001b[43m)\u001b[49m\n",
      "File \u001b[0;32mcupy/_core/core.pyx:2383\u001b[0m, in \u001b[0;36mcupy._core.core.array\u001b[0;34m()\u001b[0m\n",
      "File \u001b[0;32mcupy/_core/core.pyx:2410\u001b[0m, in \u001b[0;36mcupy._core.core.array\u001b[0;34m()\u001b[0m\n",
      "File \u001b[0;32mcupy/_core/core.pyx:2553\u001b[0m, in \u001b[0;36mcupy._core.core._array_default\u001b[0;34m()\u001b[0m\n",
      "File \u001b[0;32mcupy/_core/core.pyx:135\u001b[0m, in \u001b[0;36mcupy._core.core.ndarray.__new__\u001b[0;34m()\u001b[0m\n",
      "File \u001b[0;32mcupy/_core/core.pyx:223\u001b[0m, in \u001b[0;36mcupy._core.core._ndarray_base._init\u001b[0;34m()\u001b[0m\n",
      "File \u001b[0;32mcupy/cuda/memory.pyx:738\u001b[0m, in \u001b[0;36mcupy.cuda.memory.alloc\u001b[0;34m()\u001b[0m\n",
      "File \u001b[0;32mcupy/cuda/memory.pyx:1424\u001b[0m, in \u001b[0;36mcupy.cuda.memory.MemoryPool.malloc\u001b[0;34m()\u001b[0m\n",
      "File \u001b[0;32mcupy/cuda/memory.pyx:1444\u001b[0m, in \u001b[0;36mcupy.cuda.memory.MemoryPool.malloc\u001b[0;34m()\u001b[0m\n",
      "File \u001b[0;32mcupy/cuda/device.pyx:40\u001b[0m, in \u001b[0;36mcupy.cuda.device.get_device_id\u001b[0;34m()\u001b[0m\n",
      "File \u001b[0;32mcupy_backends/cuda/api/runtime.pyx:202\u001b[0m, in \u001b[0;36mcupy_backends.cuda.api.runtime.getDevice\u001b[0;34m()\u001b[0m\n",
      "File \u001b[0;32mcupy_backends/cuda/api/runtime.pyx:146\u001b[0m, in \u001b[0;36mcupy_backends.cuda.api.runtime.check_status\u001b[0;34m()\u001b[0m\n",
      "\u001b[0;31mCUDARuntimeError\u001b[0m: cudaErrorInsufficientDriver: CUDA driver version is insufficient for CUDA runtime version"
     ]
    }
   ],
   "source": [
    "# Image size, Rotation angle and iterations and degree of spline interpolation\n",
    "size = 1000\n",
    "angle = 72  # 72\n",
    "iterations = 5  # 5\n",
    "degree = 3\n",
    "\n",
    "# Load and resize the ascent image\n",
    "image = datasets.ascent()\n",
    "image_resized = ndimage.zoom(\n",
    "    image, (size / image.shape[0], size / image.shape[1]), order=degree\n",
    ")\n",
    "\n",
    "# Convert to float32\n",
    "image_resized = image_resized.astype(np.float32)\n",
    "\n",
    "# Benchmark and display rotation results\n",
    "benchmark_and_display_rotation(image_resized, angle, degree, iterations)"
   ]
  }
 ],
 "metadata": {
  "kernelspec": {
   "display_name": "Python 3",
   "language": "python",
   "name": "python3"
  },
  "language_info": {
   "codemirror_mode": {
    "name": "ipython",
    "version": 3
   },
   "file_extension": ".py",
   "mimetype": "text/x-python",
   "name": "python",
   "nbconvert_exporter": "python",
   "pygments_lexer": "ipython3",
   "version": "3.9.18"
  }
 },
 "nbformat": 4,
 "nbformat_minor": 5
}
