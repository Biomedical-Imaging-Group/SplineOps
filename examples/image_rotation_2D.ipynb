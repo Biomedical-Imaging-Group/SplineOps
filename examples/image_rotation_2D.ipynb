{
 "cells": [
  {
   "cell_type": "markdown",
   "id": "419b2a2a",
   "metadata": {},
   "source": [
    "# 2D Image Rotation Animation\n",
    "\n",
    "This notebook demonstrates how to create an animation of a 2D image being rotated from 0 to 360 degrees using the Tensor Spline Interpolation, with each rotation performed on top of the last rotated image to observe error accumulation."
   ]
  },
  {
   "cell_type": "code",
   "execution_count": 1,
   "id": "3dd35a8f",
   "metadata": {
    "execution": {
     "iopub.execute_input": "2024-06-19T13:55:51.497604Z",
     "iopub.status.busy": "2024-06-19T13:55:51.497403Z",
     "iopub.status.idle": "2024-06-19T13:55:52.133283Z",
     "shell.execute_reply": "2024-06-19T13:55:52.132606Z"
    }
   },
   "outputs": [],
   "source": [
    "#!/usr/bin/env python3\n",
    "import numpy as np\n",
    "import cupy as cp\n",
    "import matplotlib.pyplot as plt\n",
    "from scipy import ndimage, datasets\n",
    "from IPython.display import HTML, display\n",
    "from matplotlib import animation\n",
    "\n",
    "from splineops.interpolate.tensorspline import TensorSpline"
   ]
  },
  {
   "cell_type": "markdown",
   "id": "ab56fc62",
   "metadata": {},
   "source": [
    "## Helper Functions\n",
    "\n",
    "Define the helper functions to rotate an image and create the animation."
   ]
  },
  {
   "cell_type": "code",
   "execution_count": 2,
   "id": "2978cdca",
   "metadata": {
    "execution": {
     "iopub.execute_input": "2024-06-19T13:55:52.136003Z",
     "iopub.status.busy": "2024-06-19T13:55:52.135734Z",
     "iopub.status.idle": "2024-06-19T13:55:52.145805Z",
     "shell.execute_reply": "2024-06-19T13:55:52.145292Z"
    }
   },
   "outputs": [],
   "source": [
    "def rotate_image_splineops(image, angle, order=3, mode=\"zero\"):\n",
    "    \"\"\"\n",
    "    Rotate an image by a specified angle using SplineOps' TensorSpline method.\n",
    "\n",
    "    Parameters:\n",
    "    - image: The input image as a 2D numpy array.\n",
    "    - angle: The rotation angle in degrees.\n",
    "    - order: The order of the spline (0-7).\n",
    "    - mode: The mode for handling boundaries (default is \"zero\").\n",
    "\n",
    "    Returns:\n",
    "    - Rotated image as a 2D numpy array.\n",
    "    \"\"\"\n",
    "    dtype = image.dtype\n",
    "    ny, nx = image.shape\n",
    "    xx = np.linspace(0, nx - 1, nx, dtype=dtype)\n",
    "    yy = np.linspace(0, ny - 1, ny, dtype=dtype)\n",
    "    data = np.ascontiguousarray(image, dtype=dtype)\n",
    "\n",
    "    rotated_image_cp = cp.asarray(data)\n",
    "    xx_cp = cp.asarray(xx)\n",
    "    yy_cp = cp.asarray(yy)\n",
    "\n",
    "    order = max(0, min(order, 7))\n",
    "    basis = f\"bspline{order}\"\n",
    "\n",
    "    tensor_spline = TensorSpline(\n",
    "        data=rotated_image_cp, coordinates=(yy_cp, xx_cp), bases=basis, modes=mode\n",
    "    )\n",
    "    angle_rad = np.radians(-angle)\n",
    "    cos_angle, sin_angle = np.cos(angle_rad), np.sin(angle_rad)\n",
    "    original_center_x, original_center_y = (nx - 1) / 2.0, (ny - 1) / 2.0\n",
    "    oy, ox = cp.ogrid[0:ny, 0:nx]\n",
    "    ox = ox - original_center_x\n",
    "    oy = oy - original_center_y\n",
    "\n",
    "    nx_coords = cos_angle * ox + sin_angle * oy + original_center_x\n",
    "    ny_coords = -sin_angle * ox + cos_angle * oy + original_center_y\n",
    "\n",
    "    eval_coords_cp = cp.asarray(ny_coords.flatten()), cp.asarray(nx_coords.flatten())\n",
    "    interpolated_values_cp = tensor_spline(coordinates=eval_coords_cp, grid=False)\n",
    "    rotated_image_cp = interpolated_values_cp.reshape(ny, nx)\n",
    "\n",
    "    rotated_image = rotated_image_cp.get()\n",
    "    cp.get_default_memory_pool().free_all_blocks()\n",
    "    return rotated_image"
   ]
  },
  {
   "cell_type": "markdown",
   "id": "af618cf0",
   "metadata": {},
   "source": [
    "## Load and Preprocess Image\n",
    "\n",
    "Load the image and preprocess it for the rotation animation."
   ]
  },
  {
   "cell_type": "code",
   "execution_count": 3,
   "id": "d44357c2",
   "metadata": {
    "execution": {
     "iopub.execute_input": "2024-06-19T13:55:52.147925Z",
     "iopub.status.busy": "2024-06-19T13:55:52.147726Z",
     "iopub.status.idle": "2024-06-19T13:55:52.308937Z",
     "shell.execute_reply": "2024-06-19T13:55:52.308365Z"
    }
   },
   "outputs": [
    {
     "name": "stderr",
     "output_type": "stream",
     "text": [
      "Downloading file 'ascent.dat' from 'https://raw.githubusercontent.com/scipy/dataset-ascent/main/ascent.dat' to '/home/runner/.cache/scipy-data'.\n"
     ]
    }
   ],
   "source": [
    "# Load and resize the ascent image\n",
    "image = datasets.ascent()\n",
    "size = 500  # Resize image to 500x500 for faster computation\n",
    "order = 3\n",
    "image_resized = ndimage.zoom(\n",
    "    image, (size / image.shape[0], size / image.shape[1]), order=order\n",
    ")\n",
    "\n",
    "# Convert to float32\n",
    "image_resized = image_resized.astype(np.float32)"
   ]
  },
  {
   "cell_type": "markdown",
   "id": "16132ed5",
   "metadata": {},
   "source": [
    "## Create Animation\n",
    "\n",
    "Create the animation of the image being rotated from 0 to 360 degrees."
   ]
  },
  {
   "cell_type": "code",
   "execution_count": 4,
   "id": "cbdb11dc",
   "metadata": {
    "execution": {
     "iopub.execute_input": "2024-06-19T13:55:52.311699Z",
     "iopub.status.busy": "2024-06-19T13:55:52.311347Z",
     "iopub.status.idle": "2024-06-19T13:55:52.778509Z",
     "shell.execute_reply": "2024-06-19T13:55:52.777809Z"
    }
   },
   "outputs": [
    {
     "ename": "CUDARuntimeError",
     "evalue": "cudaErrorInsufficientDriver: CUDA driver version is insufficient for CUDA runtime version",
     "output_type": "error",
     "traceback": [
      "\u001b[0;31m---------------------------------------------------------------------------\u001b[0m",
      "\u001b[0;31mCUDARuntimeError\u001b[0m                          Traceback (most recent call last)",
      "Cell \u001b[0;32mIn[4], line 19\u001b[0m\n\u001b[1;32m     17\u001b[0m ani \u001b[38;5;241m=\u001b[39m animation\u001b[38;5;241m.\u001b[39mFuncAnimation(fig, animate, frames\u001b[38;5;241m=\u001b[39m\u001b[38;5;241m73\u001b[39m, interval\u001b[38;5;241m=\u001b[39m\u001b[38;5;241m50\u001b[39m, blit\u001b[38;5;241m=\u001b[39m\u001b[38;5;28;01mTrue\u001b[39;00m)\n\u001b[1;32m     18\u001b[0m plt\u001b[38;5;241m.\u001b[39mclose(fig)  \u001b[38;5;66;03m# Prevents the initial still image from displaying\u001b[39;00m\n\u001b[0;32m---> 19\u001b[0m display(HTML(\u001b[43mani\u001b[49m\u001b[38;5;241;43m.\u001b[39;49m\u001b[43mto_jshtml\u001b[49m\u001b[43m(\u001b[49m\u001b[43m)\u001b[49m))\n",
      "File \u001b[0;32m/usr/share/miniconda/envs/splineops_env/lib/python3.9/site-packages/matplotlib/animation.py:1353\u001b[0m, in \u001b[0;36mAnimation.to_jshtml\u001b[0;34m(self, fps, embed_frames, default_mode)\u001b[0m\n\u001b[1;32m   1349\u001b[0m         path \u001b[38;5;241m=\u001b[39m Path(tmpdir, \u001b[38;5;124m\"\u001b[39m\u001b[38;5;124mtemp.html\u001b[39m\u001b[38;5;124m\"\u001b[39m)\n\u001b[1;32m   1350\u001b[0m         writer \u001b[38;5;241m=\u001b[39m HTMLWriter(fps\u001b[38;5;241m=\u001b[39mfps,\n\u001b[1;32m   1351\u001b[0m                             embed_frames\u001b[38;5;241m=\u001b[39membed_frames,\n\u001b[1;32m   1352\u001b[0m                             default_mode\u001b[38;5;241m=\u001b[39mdefault_mode)\n\u001b[0;32m-> 1353\u001b[0m         \u001b[38;5;28;43mself\u001b[39;49m\u001b[38;5;241;43m.\u001b[39;49m\u001b[43msave\u001b[49m\u001b[43m(\u001b[49m\u001b[38;5;28;43mstr\u001b[39;49m\u001b[43m(\u001b[49m\u001b[43mpath\u001b[49m\u001b[43m)\u001b[49m\u001b[43m,\u001b[49m\u001b[43m \u001b[49m\u001b[43mwriter\u001b[49m\u001b[38;5;241;43m=\u001b[39;49m\u001b[43mwriter\u001b[49m\u001b[43m)\u001b[49m\n\u001b[1;32m   1354\u001b[0m         \u001b[38;5;28mself\u001b[39m\u001b[38;5;241m.\u001b[39m_html_representation \u001b[38;5;241m=\u001b[39m path\u001b[38;5;241m.\u001b[39mread_text()\n\u001b[1;32m   1356\u001b[0m \u001b[38;5;28;01mreturn\u001b[39;00m \u001b[38;5;28mself\u001b[39m\u001b[38;5;241m.\u001b[39m_html_representation\n",
      "File \u001b[0;32m/usr/share/miniconda/envs/splineops_env/lib/python3.9/site-packages/matplotlib/animation.py:1105\u001b[0m, in \u001b[0;36mAnimation.save\u001b[0;34m(self, filename, writer, fps, dpi, codec, bitrate, extra_args, metadata, extra_anim, savefig_kwargs, progress_callback)\u001b[0m\n\u001b[1;32m   1102\u001b[0m \u001b[38;5;28;01mfor\u001b[39;00m data \u001b[38;5;129;01min\u001b[39;00m \u001b[38;5;28mzip\u001b[39m(\u001b[38;5;241m*\u001b[39m[a\u001b[38;5;241m.\u001b[39mnew_saved_frame_seq() \u001b[38;5;28;01mfor\u001b[39;00m a \u001b[38;5;129;01min\u001b[39;00m all_anim]):\n\u001b[1;32m   1103\u001b[0m     \u001b[38;5;28;01mfor\u001b[39;00m anim, d \u001b[38;5;129;01min\u001b[39;00m \u001b[38;5;28mzip\u001b[39m(all_anim, data):\n\u001b[1;32m   1104\u001b[0m         \u001b[38;5;66;03m# TODO: See if turning off blit is really necessary\u001b[39;00m\n\u001b[0;32m-> 1105\u001b[0m         \u001b[43manim\u001b[49m\u001b[38;5;241;43m.\u001b[39;49m\u001b[43m_draw_next_frame\u001b[49m\u001b[43m(\u001b[49m\u001b[43md\u001b[49m\u001b[43m,\u001b[49m\u001b[43m \u001b[49m\u001b[43mblit\u001b[49m\u001b[38;5;241;43m=\u001b[39;49m\u001b[38;5;28;43;01mFalse\u001b[39;49;00m\u001b[43m)\u001b[49m\n\u001b[1;32m   1106\u001b[0m         \u001b[38;5;28;01mif\u001b[39;00m progress_callback \u001b[38;5;129;01mis\u001b[39;00m \u001b[38;5;129;01mnot\u001b[39;00m \u001b[38;5;28;01mNone\u001b[39;00m:\n\u001b[1;32m   1107\u001b[0m             progress_callback(frame_number, total_frames)\n",
      "File \u001b[0;32m/usr/share/miniconda/envs/splineops_env/lib/python3.9/site-packages/matplotlib/animation.py:1140\u001b[0m, in \u001b[0;36mAnimation._draw_next_frame\u001b[0;34m(self, framedata, blit)\u001b[0m\n\u001b[1;32m   1136\u001b[0m \u001b[38;5;28;01mdef\u001b[39;00m \u001b[38;5;21m_draw_next_frame\u001b[39m(\u001b[38;5;28mself\u001b[39m, framedata, blit):\n\u001b[1;32m   1137\u001b[0m     \u001b[38;5;66;03m# Breaks down the drawing of the next frame into steps of pre- and\u001b[39;00m\n\u001b[1;32m   1138\u001b[0m     \u001b[38;5;66;03m# post- draw, as well as the drawing of the frame itself.\u001b[39;00m\n\u001b[1;32m   1139\u001b[0m     \u001b[38;5;28mself\u001b[39m\u001b[38;5;241m.\u001b[39m_pre_draw(framedata, blit)\n\u001b[0;32m-> 1140\u001b[0m     \u001b[38;5;28;43mself\u001b[39;49m\u001b[38;5;241;43m.\u001b[39;49m\u001b[43m_draw_frame\u001b[49m\u001b[43m(\u001b[49m\u001b[43mframedata\u001b[49m\u001b[43m)\u001b[49m\n\u001b[1;32m   1141\u001b[0m     \u001b[38;5;28mself\u001b[39m\u001b[38;5;241m.\u001b[39m_post_draw(framedata, blit)\n",
      "File \u001b[0;32m/usr/share/miniconda/envs/splineops_env/lib/python3.9/site-packages/matplotlib/animation.py:1768\u001b[0m, in \u001b[0;36mFuncAnimation._draw_frame\u001b[0;34m(self, framedata)\u001b[0m\n\u001b[1;32m   1764\u001b[0m     \u001b[38;5;28mself\u001b[39m\u001b[38;5;241m.\u001b[39m_save_seq \u001b[38;5;241m=\u001b[39m \u001b[38;5;28mself\u001b[39m\u001b[38;5;241m.\u001b[39m_save_seq[\u001b[38;5;241m-\u001b[39m\u001b[38;5;28mself\u001b[39m\u001b[38;5;241m.\u001b[39m_save_count:]\n\u001b[1;32m   1766\u001b[0m \u001b[38;5;66;03m# Call the func with framedata and args. If blitting is desired,\u001b[39;00m\n\u001b[1;32m   1767\u001b[0m \u001b[38;5;66;03m# func needs to return a sequence of any artists that were modified.\u001b[39;00m\n\u001b[0;32m-> 1768\u001b[0m \u001b[38;5;28mself\u001b[39m\u001b[38;5;241m.\u001b[39m_drawn_artists \u001b[38;5;241m=\u001b[39m \u001b[38;5;28;43mself\u001b[39;49m\u001b[38;5;241;43m.\u001b[39;49m\u001b[43m_func\u001b[49m\u001b[43m(\u001b[49m\u001b[43mframedata\u001b[49m\u001b[43m,\u001b[49m\u001b[43m \u001b[49m\u001b[38;5;241;43m*\u001b[39;49m\u001b[38;5;28;43mself\u001b[39;49m\u001b[38;5;241;43m.\u001b[39;49m\u001b[43m_args\u001b[49m\u001b[43m)\u001b[49m\n\u001b[1;32m   1770\u001b[0m \u001b[38;5;28;01mif\u001b[39;00m \u001b[38;5;28mself\u001b[39m\u001b[38;5;241m.\u001b[39m_blit:\n\u001b[1;32m   1772\u001b[0m     err \u001b[38;5;241m=\u001b[39m \u001b[38;5;167;01mRuntimeError\u001b[39;00m(\u001b[38;5;124m'\u001b[39m\u001b[38;5;124mThe animation function must return a sequence \u001b[39m\u001b[38;5;124m'\u001b[39m\n\u001b[1;32m   1773\u001b[0m                        \u001b[38;5;124m'\u001b[39m\u001b[38;5;124mof Artist objects.\u001b[39m\u001b[38;5;124m'\u001b[39m)\n",
      "Cell \u001b[0;32mIn[4], line 12\u001b[0m, in \u001b[0;36manimate\u001b[0;34m(frame)\u001b[0m\n\u001b[1;32m     10\u001b[0m \u001b[38;5;28;01mglobal\u001b[39;00m image_rotated\n\u001b[1;32m     11\u001b[0m \u001b[38;5;28;01mif\u001b[39;00m frame \u001b[38;5;241m>\u001b[39m \u001b[38;5;241m0\u001b[39m:\n\u001b[0;32m---> 12\u001b[0m     image_rotated \u001b[38;5;241m=\u001b[39m \u001b[43mrotate_image_splineops\u001b[49m\u001b[43m(\u001b[49m\u001b[43mimage_rotated\u001b[49m\u001b[43m,\u001b[49m\u001b[43m \u001b[49m\u001b[38;5;241;43m5\u001b[39;49m\u001b[43m,\u001b[49m\u001b[43m \u001b[49m\u001b[43morder\u001b[49m\u001b[38;5;241;43m=\u001b[39;49m\u001b[43morder\u001b[49m\u001b[43m)\u001b[49m  \u001b[38;5;66;03m# Rotate by 5 degrees each frame\u001b[39;00m\n\u001b[1;32m     13\u001b[0m image_plot\u001b[38;5;241m.\u001b[39mset_data(image_rotated)\n\u001b[1;32m     14\u001b[0m \u001b[38;5;28;01mreturn\u001b[39;00m [image_plot]\n",
      "Cell \u001b[0;32mIn[2], line 20\u001b[0m, in \u001b[0;36mrotate_image_splineops\u001b[0;34m(image, angle, order, mode)\u001b[0m\n\u001b[1;32m     17\u001b[0m yy \u001b[38;5;241m=\u001b[39m np\u001b[38;5;241m.\u001b[39mlinspace(\u001b[38;5;241m0\u001b[39m, ny \u001b[38;5;241m-\u001b[39m \u001b[38;5;241m1\u001b[39m, ny, dtype\u001b[38;5;241m=\u001b[39mdtype)\n\u001b[1;32m     18\u001b[0m data \u001b[38;5;241m=\u001b[39m np\u001b[38;5;241m.\u001b[39mascontiguousarray(image, dtype\u001b[38;5;241m=\u001b[39mdtype)\n\u001b[0;32m---> 20\u001b[0m rotated_image_cp \u001b[38;5;241m=\u001b[39m \u001b[43mcp\u001b[49m\u001b[38;5;241;43m.\u001b[39;49m\u001b[43masarray\u001b[49m\u001b[43m(\u001b[49m\u001b[43mdata\u001b[49m\u001b[43m)\u001b[49m\n\u001b[1;32m     21\u001b[0m xx_cp \u001b[38;5;241m=\u001b[39m cp\u001b[38;5;241m.\u001b[39masarray(xx)\n\u001b[1;32m     22\u001b[0m yy_cp \u001b[38;5;241m=\u001b[39m cp\u001b[38;5;241m.\u001b[39masarray(yy)\n",
      "File \u001b[0;32m/usr/share/miniconda/envs/splineops_env/lib/python3.9/site-packages/cupy/_creation/from_data.py:88\u001b[0m, in \u001b[0;36masarray\u001b[0;34m(a, dtype, order, blocking)\u001b[0m\n\u001b[1;32m     56\u001b[0m \u001b[38;5;28;01mdef\u001b[39;00m \u001b[38;5;21masarray\u001b[39m(a, dtype\u001b[38;5;241m=\u001b[39m\u001b[38;5;28;01mNone\u001b[39;00m, order\u001b[38;5;241m=\u001b[39m\u001b[38;5;28;01mNone\u001b[39;00m, \u001b[38;5;241m*\u001b[39m, blocking\u001b[38;5;241m=\u001b[39m\u001b[38;5;28;01mFalse\u001b[39;00m):\n\u001b[1;32m     57\u001b[0m \u001b[38;5;250m    \u001b[39m\u001b[38;5;124;03m\"\"\"Converts an object to array.\u001b[39;00m\n\u001b[1;32m     58\u001b[0m \n\u001b[1;32m     59\u001b[0m \u001b[38;5;124;03m    This is equivalent to ``array(a, dtype, copy=False, order=order)``.\u001b[39;00m\n\u001b[0;32m   (...)\u001b[0m\n\u001b[1;32m     86\u001b[0m \n\u001b[1;32m     87\u001b[0m \u001b[38;5;124;03m    \"\"\"\u001b[39;00m\n\u001b[0;32m---> 88\u001b[0m     \u001b[38;5;28;01mreturn\u001b[39;00m \u001b[43m_core\u001b[49m\u001b[38;5;241;43m.\u001b[39;49m\u001b[43marray\u001b[49m\u001b[43m(\u001b[49m\u001b[43ma\u001b[49m\u001b[43m,\u001b[49m\u001b[43m \u001b[49m\u001b[43mdtype\u001b[49m\u001b[43m,\u001b[49m\u001b[43m \u001b[49m\u001b[38;5;28;43;01mFalse\u001b[39;49;00m\u001b[43m,\u001b[49m\u001b[43m \u001b[49m\u001b[43morder\u001b[49m\u001b[43m,\u001b[49m\u001b[43m \u001b[49m\u001b[43mblocking\u001b[49m\u001b[38;5;241;43m=\u001b[39;49m\u001b[43mblocking\u001b[49m\u001b[43m)\u001b[49m\n",
      "File \u001b[0;32mcupy/_core/core.pyx:2383\u001b[0m, in \u001b[0;36mcupy._core.core.array\u001b[0;34m()\u001b[0m\n",
      "File \u001b[0;32mcupy/_core/core.pyx:2410\u001b[0m, in \u001b[0;36mcupy._core.core.array\u001b[0;34m()\u001b[0m\n",
      "File \u001b[0;32mcupy/_core/core.pyx:2553\u001b[0m, in \u001b[0;36mcupy._core.core._array_default\u001b[0;34m()\u001b[0m\n",
      "File \u001b[0;32mcupy/_core/core.pyx:135\u001b[0m, in \u001b[0;36mcupy._core.core.ndarray.__new__\u001b[0;34m()\u001b[0m\n",
      "File \u001b[0;32mcupy/_core/core.pyx:223\u001b[0m, in \u001b[0;36mcupy._core.core._ndarray_base._init\u001b[0;34m()\u001b[0m\n",
      "File \u001b[0;32mcupy/cuda/memory.pyx:738\u001b[0m, in \u001b[0;36mcupy.cuda.memory.alloc\u001b[0;34m()\u001b[0m\n",
      "File \u001b[0;32mcupy/cuda/memory.pyx:1424\u001b[0m, in \u001b[0;36mcupy.cuda.memory.MemoryPool.malloc\u001b[0;34m()\u001b[0m\n",
      "File \u001b[0;32mcupy/cuda/memory.pyx:1444\u001b[0m, in \u001b[0;36mcupy.cuda.memory.MemoryPool.malloc\u001b[0;34m()\u001b[0m\n",
      "File \u001b[0;32mcupy/cuda/device.pyx:40\u001b[0m, in \u001b[0;36mcupy.cuda.device.get_device_id\u001b[0;34m()\u001b[0m\n",
      "File \u001b[0;32mcupy_backends/cuda/api/runtime.pyx:202\u001b[0m, in \u001b[0;36mcupy_backends.cuda.api.runtime.getDevice\u001b[0;34m()\u001b[0m\n",
      "File \u001b[0;32mcupy_backends/cuda/api/runtime.pyx:146\u001b[0m, in \u001b[0;36mcupy_backends.cuda.api.runtime.check_status\u001b[0;34m()\u001b[0m\n",
      "\u001b[0;31mCUDARuntimeError\u001b[0m: cudaErrorInsufficientDriver: CUDA driver version is insufficient for CUDA runtime version"
     ]
    }
   ],
   "source": [
    "# Create a figure and axis\n",
    "fig, ax = plt.subplots()\n",
    "ax.axis('off')\n",
    "original_image = image_resized.copy()\n",
    "image_rotated = original_image.copy()\n",
    "image_plot = ax.imshow(image_rotated, cmap='gray')\n",
    "\n",
    "# Animation function\n",
    "def animate(frame):\n",
    "    global image_rotated\n",
    "    if frame > 0:\n",
    "        image_rotated = rotate_image_splineops(image_rotated, 5, order=order)  # Rotate by 5 degrees each frame\n",
    "    image_plot.set_data(image_rotated)\n",
    "    return [image_plot]\n",
    "\n",
    "# Create the animation\n",
    "ani = animation.FuncAnimation(fig, animate, frames=73, interval=50, blit=True)\n",
    "plt.close(fig)  # Prevents the initial still image from displaying\n",
    "display(HTML(ani.to_jshtml()))"
   ]
  }
 ],
 "metadata": {
  "kernelspec": {
   "display_name": "Python 3 (ipykernel)",
   "language": "python",
   "name": "python3"
  },
  "language_info": {
   "codemirror_mode": {
    "name": "ipython",
    "version": 3
   },
   "file_extension": ".py",
   "mimetype": "text/x-python",
   "name": "python",
   "nbconvert_exporter": "python",
   "pygments_lexer": "ipython3",
   "version": "3.9.19"
  }
 },
 "nbformat": 4,
 "nbformat_minor": 5
}
